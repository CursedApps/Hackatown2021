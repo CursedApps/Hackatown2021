{
 "metadata": {
  "language_info": {
   "codemirror_mode": {
    "name": "ipython",
    "version": 3
   },
   "file_extension": ".py",
   "mimetype": "text/x-python",
   "name": "python",
   "nbconvert_exporter": "python",
   "pygments_lexer": "ipython3",
   "version": "3.7.8-final"
  },
  "orig_nbformat": 2,
  "kernelspec": {
   "name": "python3",
   "display_name": "Python 3.7.8 64-bit",
   "metadata": {
    "interpreter": {
     "hash": "57baa5815c940fdaff4d14510622de9616cae602444507ba5d0b6727c008cbd6"
    }
   }
  }
 },
 "nbformat": 4,
 "nbformat_minor": 2,
 "cells": [
  {
   "cell_type": "code",
   "execution_count": 1,
   "metadata": {},
   "outputs": [],
   "source": [
    "import numpy as np\n",
    "import pandas as pd"
   ]
  },
  {
   "cell_type": "code",
   "execution_count": 2,
   "metadata": {},
   "outputs": [
    {
     "output_type": "stream",
     "name": "stdout",
     "text": [
      "Data Path: c:\\Users\\Adem Aber Aouni\\source\\repos\\rose\\hackatown\\AIisCoolAgain\\data\n"
     ]
    }
   ],
   "source": [
    "data_path = os.path.abspath(\"./data/\")\n",
    "out_path = os.path.abspath(\"./out/\")\n",
    "print(\"Data Path:\", data_path)"
   ]
  },
  {
   "cell_type": "code",
   "execution_count": 3,
   "metadata": {},
   "outputs": [],
   "source": [
    "rest_1_data = pd.read_csv(os.path.join(data_path, \"restaurant-1-orders.csv\"))\n",
    "rest_2_data = pd.read_csv(os.path.join(data_path, \"restaurant-2-orders.csv\"))"
   ]
  },
  {
   "cell_type": "code",
   "execution_count": 4,
   "metadata": {},
   "outputs": [
    {
     "output_type": "execute_result",
     "data": {
      "text/plain": [
       "   Order ID        Order Date            Item Name  Quantity  Product Price  \\\n",
       "0     16118  03/08/2019 20:25        Plain Papadum         2           0.80   \n",
       "1     16118  03/08/2019 20:25     King Prawn Balti         1          12.95   \n",
       "2     16118  03/08/2019 20:25          Garlic Naan         1           2.95   \n",
       "3     16118  03/08/2019 20:25        Mushroom Rice         1           3.95   \n",
       "4     16118  03/08/2019 20:25  Paneer Tikka Masala         1           8.95   \n",
       "\n",
       "   Total products  \n",
       "0               6  \n",
       "1               6  \n",
       "2               6  \n",
       "3               6  \n",
       "4               6  "
      ],
      "text/html": "<div>\n<style scoped>\n    .dataframe tbody tr th:only-of-type {\n        vertical-align: middle;\n    }\n\n    .dataframe tbody tr th {\n        vertical-align: top;\n    }\n\n    .dataframe thead th {\n        text-align: right;\n    }\n</style>\n<table border=\"1\" class=\"dataframe\">\n  <thead>\n    <tr style=\"text-align: right;\">\n      <th></th>\n      <th>Order ID</th>\n      <th>Order Date</th>\n      <th>Item Name</th>\n      <th>Quantity</th>\n      <th>Product Price</th>\n      <th>Total products</th>\n    </tr>\n  </thead>\n  <tbody>\n    <tr>\n      <th>0</th>\n      <td>16118</td>\n      <td>03/08/2019 20:25</td>\n      <td>Plain Papadum</td>\n      <td>2</td>\n      <td>0.80</td>\n      <td>6</td>\n    </tr>\n    <tr>\n      <th>1</th>\n      <td>16118</td>\n      <td>03/08/2019 20:25</td>\n      <td>King Prawn Balti</td>\n      <td>1</td>\n      <td>12.95</td>\n      <td>6</td>\n    </tr>\n    <tr>\n      <th>2</th>\n      <td>16118</td>\n      <td>03/08/2019 20:25</td>\n      <td>Garlic Naan</td>\n      <td>1</td>\n      <td>2.95</td>\n      <td>6</td>\n    </tr>\n    <tr>\n      <th>3</th>\n      <td>16118</td>\n      <td>03/08/2019 20:25</td>\n      <td>Mushroom Rice</td>\n      <td>1</td>\n      <td>3.95</td>\n      <td>6</td>\n    </tr>\n    <tr>\n      <th>4</th>\n      <td>16118</td>\n      <td>03/08/2019 20:25</td>\n      <td>Paneer Tikka Masala</td>\n      <td>1</td>\n      <td>8.95</td>\n      <td>6</td>\n    </tr>\n  </tbody>\n</table>\n</div>"
     },
     "metadata": {},
     "execution_count": 4
    }
   ],
   "source": [
    "rest_1_data.head()"
   ]
  },
  {
   "cell_type": "code",
   "execution_count": 32,
   "metadata": {},
   "outputs": [],
   "source": [
    "def preprocess(df) :\n",
    "    df_new = df.drop([\"Order ID\", \"Product Price\", \"Total products\"], axis=1)\n",
    "    df_new['Order Date'] = pd.to_datetime(df['Order Date'])\n",
    "    df_new['dayOfWeek'] = df_new['Order Date'].dt.dayofweek\n",
    "    df_new['week'] = df_new['Order Date'].dt.week\n",
    "    categ = pd.Series(df[\"Item Name\"], dtype=\"category\")\n",
    "    df_new['item'] = categ.cat.codes\n",
    "    df_new = df_new.drop([\"Order Date\", \"Item Name\"], axis=1)\n",
    "    df_new = df_new.groupby([\"item\", \"dayOfWeek\", \"week\"]).sum()\n",
    "    return df_new, pd.DataFrame(categ.cat.categories)\n"
   ]
  },
  {
   "cell_type": "code",
   "execution_count": 33,
   "metadata": {},
   "outputs": [
    {
     "output_type": "stream",
     "name": "stdout",
     "text": [
      "                     Quantity\n",
      "item dayOfWeek week          \n",
      "0    0         3            1\n",
      "               4            1\n",
      "               6            1\n",
      "               10           1\n",
      "               14           1\n",
      "...                       ...\n",
      "247  6         22           1\n",
      "               24           1\n",
      "               30           2\n",
      "               37           1\n",
      "               39           1\n",
      "\n",
      "[29908 rows x 1 columns]\n",
      "                     Quantity\n",
      "item dayOfWeek week          \n",
      "0    0         4            1\n",
      "               7            3\n",
      "               8            1\n",
      "               9            1\n",
      "               15           1\n",
      "...                       ...\n",
      "336  6         39           2\n",
      "               46           2\n",
      "               48           1\n",
      "               51           1\n",
      "               52           1\n",
      "\n",
      "[36534 rows x 1 columns]\n"
     ]
    }
   ],
   "source": [
    "rest_1_data_preprocessed, items1 = preprocess(rest_1_data)\n",
    "print(rest_1_data_preprocessed)\n",
    "rest_2_data_preprocessed, items2 = preprocess(rest_2_data)\n",
    "print(rest_2_data_preprocessed)"
   ]
  },
  {
   "cell_type": "code",
   "execution_count": 34,
   "metadata": {},
   "outputs": [],
   "source": [
    "rest_1_data_preprocessed.to_csv(os.path.join(out_path,\"nestor1.csv\"))\n",
    "rest_2_data_preprocessed.to_csv(os.path.join(out_path,\"nestor2.csv\"))\n",
    "items1.to_csv(os.path.join(out_path,\"items1.csv\"))\n",
    "items2.to_csv(os.path.join(out_path,\"items2.csv\"))"
   ]
  },
  {
   "cell_type": "code",
   "execution_count": null,
   "metadata": {},
   "outputs": [],
   "source": []
  }
 ]
}